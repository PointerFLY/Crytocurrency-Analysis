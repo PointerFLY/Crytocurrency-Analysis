{
 "cells": [
  {
   "cell_type": "markdown",
   "metadata": {},
   "source": [
    "# Stylized Facts of Cryptocurrency"
   ]
  },
  {
   "cell_type": "code",
   "execution_count": null,
   "metadata": {},
   "outputs": [],
   "source": [
    "import numpy as np\n",
    "import pandas as pd\n",
    "import matplotlib.pyplot as plt\n",
    "import matplotlib.mlab as mlab\n",
    "import glob\n",
    "import re\n",
    "\n",
    "plt.rcParams['figure.figsize'] = (15.0, 5.0)"
   ]
  },
  {
   "cell_type": "code",
   "execution_count": null,
   "metadata": {},
   "outputs": [],
   "source": [
    "files = [f for f in glob.glob('../data/*price.csv')]\n",
    "files.sort()\n",
    "coin_names = list(map(lambda f: re.match(re.compile('.*/(.*)_price.csv'), f).group(1), files))\n",
    "returns_map = dict();\n",
    "data_sizes = pd.DataFrame(index=['size'], columns=coin_names)\n",
    "for idx, file in enumerate(files):\n",
    "    df = pd.read_csv(file)\n",
    "    df['Date'] = pd.to_datetime(df['Date'])\n",
    "    df = df.sort_values(by='Date')\n",
    "    prices = df['Close']\n",
    "    returns = pd.Series(np.log(prices / prices.shift()))\n",
    "    returns_map[coin_names[idx]] = returns;\n",
    "    data_sizes[coin_names[idx]][0] = returns.size\n",
    "data_sizes"
   ]
  },
  {
   "cell_type": "markdown",
   "metadata": {},
   "source": [
    "## Basic Statistics\n",
    "* Q1: What does A* mean, another version of central limit theorem?\n",
    "* Q2: z-score here might be meaningless since it is used to assess the null hypothesis that the expected return is zero"
   ]
  },
  {
   "cell_type": "code",
   "execution_count": null,
   "metadata": {},
   "outputs": [],
   "source": [
    "columns = ['10^4 mean', '10^2 std', 'max', 'min', 'skew', 'skew_abs', 'kurtosis', 'G%', 'A*%', 'z']\n",
    "df = pd.DataFrame(index=coin_names, dtype='float', columns=columns)\n",
    "N = 365;\n",
    "for key, returns in returns_map.items():\n",
    "    G = math.exp(N * returns.mean()) - 1\n",
    "    Astar = (1 + G) * math.exp(N * 0.5 * math.pow(returns.std(), 2.0)) - 1\n",
    "    z = returns.mean() * math.sqrt(returns.size) / returns.std() \n",
    "    \n",
    "    df.loc[key] = [returns.mean() * 10000, returns.std() * 100, \n",
    "                   returns.max(), returns.min(), \n",
    "                   returns.skew(), abs(returns.skew()), returns.kurtosis(),\n",
    "                   G * 100, Astar * 100, \n",
    "                   z]\n",
    "df.round(2)"
   ]
  },
  {
   "cell_type": "code",
   "execution_count": null,
   "metadata": {},
   "outputs": [],
   "source": [
    "ax = table.plot.scatter(x='kurtosis', y='skew_abs')\n",
    "for i, text in enumerate(table.index):\n",
    "    ax.annotate(text, (table['kurtosis'].iat[i], table['skew_abs'].iat[i]))\n",
    "plt.show()\n",
    "\n",
    "ax = table.plot.scatter(x='kurtosis', y='std')\n",
    "for i, text in enumerate(table.index):\n",
    "    ax.annotate(text, (table['kurtosis'].iat[i], table['std'].iat[i]))\n",
    "plt.show()\n",
    "\n",
    "ax = table.plot.scatter(x='kurtosis', y='mean')\n",
    "for i, text in enumerate(table.index):\n",
    "    ax.annotate(text, (table['kurtosis'].iat[i], table['mean'].iat[i]))\n",
    "plt.show()\n",
    "\n",
    "ax = table.plot.scatter(x='mean', y='std')\n",
    "for i, text in enumerate(table.index):\n",
    "    ax.annotate(text, (table['mean'].iat[i], table['std'].iat[i]))\n",
    "plt.show()\n",
    "\n",
    "ax = table.plot.scatter(x='min', y='max')\n",
    "for i, text in enumerate(table.index):\n",
    "    ax.annotate(text, (table['min'].iat[i], table['max'].iat[i]))\n",
    "plt.show()"
   ]
  },
  {
   "cell_type": "markdown",
   "metadata": {},
   "source": [
    "## Shape of Returns Distribution\n",
    "Q: What's the threshold of skewness and kurtosis as a normal distribution."
   ]
  },
  {
   "cell_type": "code",
   "execution_count": null,
   "metadata": {},
   "outputs": [],
   "source": [
    "columns = ['std', 'skew', 'skew std', 'z-skew', 'kurtosis', 'kurtosis std', 'z-kurtosis']\n",
    "df = pd.DataFrame(index=coin_names, dtype='float', columns=columns)\n",
    "for key, returns in returns_map.items():\n",
    "    skew_std = math.sqrt(6.0 / returns.size)\n",
    "    kurto_std = math.sqrt(24.0 / returns.size)\n",
    "    df.loc[key] = [returns.std(), \n",
    "                   returns.skew(), skew_std, abs(returns.skew()) / skew_std,\n",
    "                   returns.kurtosis(), kurto_std, returns.kurtosis() / kurto_std]\n",
    "df.round(2)"
   ]
  },
  {
   "cell_type": "markdown",
   "metadata": {},
   "source": [
    "### Example shape graph"
   ]
  },
  {
   "cell_type": "code",
   "execution_count": null,
   "metadata": {},
   "outputs": [],
   "source": [
    "returns = returns_map['bitconnect']\n",
    "\n",
    "returns.plot('kde')\n",
    "x = np.linspace(returns.min(), returns.max(), returns.size)\n",
    "plt.plot(x, mlab.normpdf(x, returns.mean(), returns.std()))\n",
    "returns.plot('hist', bins=40, secondary_y=True, alpha=0.5)\n",
    "plt.show()\n",
    "\n",
    "returns.plot()\n",
    "plt.show()"
   ]
  },
  {
   "cell_type": "markdown",
   "metadata": {},
   "source": [
    "## Calendar Effects"
   ]
  },
  {
   "cell_type": "code",
   "execution_count": null,
   "metadata": {},
   "outputs": [],
   "source": []
  },
  {
   "cell_type": "markdown",
   "metadata": {},
   "source": [
    "## Autocorrelation"
   ]
  },
  {
   "cell_type": "code",
   "execution_count": null,
   "metadata": {},
   "outputs": [],
   "source": []
  }
 ],
 "metadata": {
  "kernelspec": {
   "display_name": "Python 3",
   "language": "python",
   "name": "python3"
  },
  "language_info": {
   "codemirror_mode": {
    "name": "ipython",
    "version": 3
   },
   "file_extension": ".py",
   "mimetype": "text/x-python",
   "name": "python",
   "nbconvert_exporter": "python",
   "pygments_lexer": "ipython3",
   "version": "3.6.5"
  }
 },
 "nbformat": 4,
 "nbformat_minor": 2
}
