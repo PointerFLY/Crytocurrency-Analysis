{
 "cells": [
  {
   "cell_type": "markdown",
   "metadata": {},
   "source": [
    "# Stylized Facts of Cryptocurrency"
   ]
  },
  {
   "cell_type": "code",
   "execution_count": null,
   "metadata": {},
   "outputs": [],
   "source": [
    "import numpy as np\n",
    "import pandas as pd\n",
    "import matplotlib.pyplot as plt\n",
    "import matplotlib.mlab as mlab\n",
    "import matplotlib.patches as mpatches\n",
    "import matplotlib.lines as mlines\n",
    "import glob\n",
    "import re\n",
    "import math\n",
    "from statsmodels.tsa.stattools import acf, pacf\n",
    "\n",
    "plt.rcParams['figure.figsize'] = (15.0, 5.0)"
   ]
  },
  {
   "cell_type": "code",
   "execution_count": null,
   "metadata": {},
   "outputs": [],
   "source": [
    "# Read from cryptocurrencies\n",
    "\n",
    "files = [f for f in glob.glob('../data/cryptos/*price.csv')]\n",
    "files.sort()\n",
    "crypto_names = list(map(lambda f: re.match(re.compile('.*/(.*)_price.csv'), f).group(1), files))\n",
    "crypto_dic = dict();\n",
    "data_sizes = pd.DataFrame(index=['size'], columns=crypto_names)\n",
    "for idx, file in enumerate(files):\n",
    "    df = pd.read_csv(file)\n",
    "    df['Date'] = pd.to_datetime(df['Date'])\n",
    "    df = df.sort_values(by='Date')\n",
    "    df.set_index('Date', inplace=True)\n",
    "    prices = df['Close']\n",
    "    returns = pd.Series(np.log(prices / prices.shift()))\n",
    "    returns.dropna(inplace=True)\n",
    "    crypto_dic[crypto_names[idx]] = returns;\n",
    "    data_sizes[crypto_names[idx]][0] = returns.size\n",
    "data_sizes"
   ]
  },
  {
   "cell_type": "code",
   "execution_count": null,
   "metadata": {},
   "outputs": [],
   "source": [
    "# Read from currencies\n",
    "\n",
    "files = [f for f in glob.glob('../data/currencies/*.csv')]\n",
    "files.sort()\n",
    "rate_names = list(map(lambda f: re.match(re.compile('.*/(.*) Historical Data.csv'), f).group(1), files))\n",
    "rate_dic = dict();\n",
    "data_sizes = pd.DataFrame(index=['size'], columns=rate_names)\n",
    "for idx, file in enumerate(files):\n",
    "    df = pd.read_csv(file)\n",
    "    df['Date'] = pd.to_datetime(df['Date'])\n",
    "    df = df.sort_values(by='Date')\n",
    "    df.set_index('Date', inplace=True)\n",
    "    \n",
    "    prices = df['Price']\n",
    "    new_idx = pd.DatetimeIndex(start=df.index[0], end=df.index[-1], freq='D')\n",
    "    prices = prices[new_idx]\n",
    "    prices.interpolate(inplace=True)\n",
    "    \n",
    "    returns = pd.Series(np.log(prices / prices.shift()))\n",
    "    returns.dropna(inplace=True)\n",
    "    rate_dic[rate_names[idx]] = returns;\n",
    "    data_sizes[rate_names[idx]][0] = returns.size\n",
    "data_sizes"
   ]
  },
  {
   "cell_type": "markdown",
   "metadata": {},
   "source": [
    "## Basic Statistics\n",
    "* Q1: What does A* mean, another version of central limit theorem?\n",
    "* Q2: z-score here might be meaningless since it is used to assess the null hypothesis that the expected return is zero"
   ]
  },
  {
   "cell_type": "code",
   "execution_count": null,
   "metadata": {},
   "outputs": [],
   "source": [
    "def do_basic_stats(returns_dic):\n",
    "    columns = ['10^4 mean', '10^2 std', 'max', 'min', 'skew', 'skew_abs', 'kurtosis', 'G%', 'A*%', 'z']\n",
    "    df = pd.DataFrame(index=returns_dic.keys(), dtype='float', columns=columns)\n",
    "    N = 365;\n",
    "    for key, returns in returns_dic.items():\n",
    "        G = math.exp(N * returns.mean()) - 1\n",
    "        Astar = (1 + G) * math.exp(N * 0.5 * math.pow(returns.std(), 2.0)) - 1\n",
    "        z = returns.mean() * math.sqrt(returns.size) / returns.std() \n",
    "\n",
    "        df.loc[key] = [returns.mean() * 10000, returns.std() * 100, \n",
    "                       returns.max(), returns.min(), \n",
    "                       returns.skew(), abs(returns.skew()), returns.kurtosis(),\n",
    "                       G * 100, Astar * 100, \n",
    "                       z]\n",
    "    df.round(2)\n",
    "    return df\n",
    "\n",
    "def plot_stats_relation(df):\n",
    "    ax = df.plot.scatter(x='kurtosis', y='skew_abs')\n",
    "    for i, text in enumerate(df.index):\n",
    "        ax.annotate(text, (df['kurtosis'].iat[i], df['skew_abs'].iat[i]))\n",
    "\n",
    "    ax = df.plot.scatter(x='kurtosis', y='10^2 std')\n",
    "    for i, text in enumerate(df.index):\n",
    "        ax.annotate(text, (df['kurtosis'].iat[i], df['10^2 std'].iat[i]))\n",
    "\n",
    "    ax = df.plot.scatter(x='kurtosis', y='10^4 mean')\n",
    "    for i, text in enumerate(df.index):\n",
    "        ax.annotate(text, (df['kurtosis'].iat[i], df['10^4 mean'].iat[i]))\n",
    "\n",
    "    ax = df.plot.scatter(x='10^4 mean', y='10^2 std')\n",
    "    for i, text in enumerate(df.index):\n",
    "        ax.annotate(text, (df['10^4 mean'].iat[i], df['10^2 std'].iat[i]))\n",
    "\n",
    "    ax = df.plot.scatter(x='min', y='max')\n",
    "    for i, text in enumerate(df.index):\n",
    "        ax.annotate(text, (df['min'].iat[i], df['max'].iat[i]))"
   ]
  },
  {
   "cell_type": "code",
   "execution_count": null,
   "metadata": {},
   "outputs": [],
   "source": [
    "df = do_basic_stats(crypto_dic)\n",
    "df"
   ]
  },
  {
   "cell_type": "code",
   "execution_count": null,
   "metadata": {},
   "outputs": [],
   "source": [
    "plot_stats_relation(df)"
   ]
  },
  {
   "cell_type": "code",
   "execution_count": null,
   "metadata": {},
   "outputs": [],
   "source": [
    "df = do_basic_stats(rate_dic)\n",
    "df"
   ]
  },
  {
   "cell_type": "code",
   "execution_count": null,
   "metadata": {},
   "outputs": [],
   "source": [
    "plot_stats_relation(df)"
   ]
  },
  {
   "cell_type": "markdown",
   "metadata": {},
   "source": [
    "## Shape of Returns Distribution\n",
    "Q: What's the threshold of skewness and kurtosis as a normal distribution."
   ]
  },
  {
   "cell_type": "code",
   "execution_count": null,
   "metadata": {},
   "outputs": [],
   "source": [
    "def do_shape_stats(returns_dic):\n",
    "    columns = ['std', 'skew', 'skew std', 'z-skew', 'kurtosis', 'kurtosis std', 'z-kurtosis']\n",
    "    df = pd.DataFrame(index=returns_dic.keys(), dtype='float', columns=columns)\n",
    "    for key, returns in returns_dic.items():\n",
    "        skew_std = math.sqrt(6.0 / returns.size)\n",
    "        kurto_std = math.sqrt(24.0 / returns.size)\n",
    "        df.loc[key] = [returns.std(), \n",
    "                       returns.skew(), skew_std, abs(returns.skew()) / skew_std,\n",
    "                       returns.kurtosis(), kurto_std, returns.kurtosis() / kurto_std]\n",
    "    df.round(2)\n",
    "    return df\n",
    "    \n",
    "def plot_shape(returns): \n",
    "    plt.title('Returns Time Series')\n",
    "    returns.plot()\n",
    "    plt.show()\n",
    "    \n",
    "    plt.title('Distribution Shape')\n",
    "    returns.plot('kde')\n",
    "    x = np.linspace(returns.min(), returns.max(), returns.size)\n",
    "    plt.plot(x, mlab.normpdf(x, returns.mean(), returns.std()), color='orange')\n",
    "    returns.plot('hist', bins=40, secondary_y=True, color='green', alpha=0.5)\n",
    "    line = mlines.Line2D([], [], color='orange', label=\"Normal distribution\")\n",
    "    plt.legend(handles=[line])\n",
    "    plt.show()"
   ]
  },
  {
   "cell_type": "code",
   "execution_count": null,
   "metadata": {},
   "outputs": [],
   "source": [
    "do_shape_stats(crypto_dic)"
   ]
  },
  {
   "cell_type": "code",
   "execution_count": null,
   "metadata": {},
   "outputs": [],
   "source": [
    "do_shape_stats(rate_dic)"
   ]
  },
  {
   "cell_type": "markdown",
   "metadata": {},
   "source": [
    "### Example shape graph"
   ]
  },
  {
   "cell_type": "code",
   "execution_count": null,
   "metadata": {},
   "outputs": [],
   "source": [
    "returns = crypto_dic['bitcoin']\n",
    "plot_shape(returns)"
   ]
  },
  {
   "cell_type": "code",
   "execution_count": null,
   "metadata": {},
   "outputs": [],
   "source": [
    "returns = rate_dic['EUR_USD']\n",
    "plot_shape(returns)"
   ]
  },
  {
   "cell_type": "markdown",
   "metadata": {},
   "source": [
    "## Calendar Effects\n",
    "Q: How to correct evaluate calendar effect significants?"
   ]
  },
  {
   "cell_type": "code",
   "execution_count": null,
   "metadata": {},
   "outputs": [],
   "source": [
    "def do_dayofweek(returns_dic, stat):\n",
    "    columns = ['Monday', 'Tuesday', 'Wednesday', 'Thursday', 'Friday', 'Saturday', 'Sunday']\n",
    "    df = pd.DataFrame(index=returns_dic.keys(), dtype='float', columns=columns)\n",
    "    \n",
    "    if stat == 'mean':\n",
    "        for key, returns in returns_dic.items():\n",
    "            df.loc[key] = 10000 * returns.groupby(returns.index.dayofweek).mean().values\n",
    "    elif stat == 'std':\n",
    "        for key, returns in returns_dic.items():\n",
    "            df.loc[key] = 100 * returns.groupby(returns.index.dayofweek).std().values\n",
    "    \n",
    "    return df"
   ]
  },
  {
   "cell_type": "markdown",
   "metadata": {},
   "source": [
    "### Average percentage day-of-week returns"
   ]
  },
  {
   "cell_type": "code",
   "execution_count": null,
   "metadata": {},
   "outputs": [],
   "source": [
    "do_dayofweek(crypto_dic, 'mean')"
   ]
  },
  {
   "cell_type": "code",
   "execution_count": null,
   "metadata": {},
   "outputs": [],
   "source": [
    "do_dayofweek(rate_dic, 'mean')"
   ]
  },
  {
   "cell_type": "markdown",
   "metadata": {},
   "source": [
    "### Average percentage day-of-week std"
   ]
  },
  {
   "cell_type": "code",
   "execution_count": null,
   "metadata": {},
   "outputs": [],
   "source": [
    "do_dayofweek(crypto_dic, 'std')"
   ]
  },
  {
   "cell_type": "code",
   "execution_count": null,
   "metadata": {},
   "outputs": [],
   "source": [
    "do_dayofweek(rate_dic, 'std')"
   ]
  },
  {
   "cell_type": "markdown",
   "metadata": {},
   "source": [
    "###  Example"
   ]
  },
  {
   "cell_type": "code",
   "execution_count": null,
   "metadata": {},
   "outputs": [],
   "source": [
    "def do_dayofweek_stats(returns_dic):\n",
    "    N = 365\n",
    "    columns = ['Monday', 'Tuesday', 'Wednesday', 'Thursday', 'Friday', 'Saturday', 'Sunday']\n",
    "    df = pd.DataFrame(dtype='float', columns=columns)\n",
    "\n",
    "    returns = returns_dic['bitcoin']\n",
    "    groups = returns.groupby(returns.index.dayofweek)\n",
    "\n",
    "    calG = lambda x: math.exp(N * x.mean()) - 1\n",
    "    calAstar = lambda x: (1 + calG(x)) * math.exp(N * 0.5 * math.pow(x.std(), 2.0)) - 1\n",
    "    calz = lambda x: x.mean() * math.sqrt(x.size) / x.std() \n",
    "\n",
    "    df.loc['10^4 mean']= 10000 * groups.mean().values\n",
    "    df.loc['10^2 std'] = 100 * groups.std().values\n",
    "    df.loc['max'] = groups.max().values\n",
    "    df.loc['min'] = groups.min().values\n",
    "    df.loc['skew'] = groups.skew().values\n",
    "    df.loc['kurtosis'] = groups.apply(lambda x: x.kurtosis()).values\n",
    "    df.loc['G%'] = groups.apply(calG).values; \n",
    "    df.loc['A*%'] = groups.apply(calAstar).values; \n",
    "    df.loc['z'] = groups.apply(calz).values; \n",
    "\n",
    "    df.round(2)\n",
    "    return df"
   ]
  },
  {
   "cell_type": "code",
   "execution_count": null,
   "metadata": {},
   "outputs": [],
   "source": [
    "do_dayofweek_stats(crypto_dic)"
   ]
  },
  {
   "cell_type": "markdown",
   "metadata": {},
   "source": [
    "## Autocorrelation\n",
    "Q: 95% confident interval rule seemed is violated."
   ]
  },
  {
   "cell_type": "code",
   "execution_count": null,
   "metadata": {},
   "outputs": [],
   "source": [
    "def plot_acf(returns, title):\n",
    "    count = 20\n",
    "    lag_acf = acf(returns, nlags=count)\n",
    "    lag_pacf = pacf(returns, nlags=count, method='ols') \n",
    "\n",
    "    ######################### ACF ##########################################\n",
    "\n",
    "    plt.subplot(121)\n",
    "    plt.bar(x=range(len(lag_acf)), height=lag_acf, alpha=0.3, color='green')\n",
    "    plt.plot(lag_acf)\n",
    "    plt.axhline(y=0, linestyle='--',color='blue')\n",
    "    plt.axhline(y=-1.96/np.sqrt(len(returns)), linestyle='--', color='pink')\n",
    "    plt.axhline(y=1.96/np.sqrt(len(returns)), linestyle='--', color='blue')\n",
    "    plt.title(title + ' -- autocorrelation')\n",
    "\n",
    "    ######################### PACF ##########################################\n",
    "\n",
    "    plt.subplot(122)\n",
    "    plt.bar(x=range(len(lag_pacf)), height=lag_pacf, alpha=0.3, color='green')\n",
    "    plt.plot(lag_pacf)\n",
    "    plt.axhline(y=0, linestyle='--',color='blue')\n",
    "    plt.axhline(y=-1.96/np.sqrt(len(returns)), linestyle='--', color='pink')\n",
    "    plt.axhline(y=1.96/np.sqrt(len(returns)), linestyle='--', color='blue')\n",
    "    plt.title(title + ' -- partial autocorrelation')\n",
    "    plt.show()\n",
    "    \n",
    "    df = pd.DataFrame(columns=['acf', 'pacf'])\n",
    "    for i in range(1, count + 1):\n",
    "        df.loc[i] = [lag_acf[i], lag_pacf[i]]\n",
    "    df = df.round(4)\n",
    "    print(df)\n",
    "    \n",
    "def plot_acf_forall(returns):\n",
    "    returns_abs = np.abs(returns)\n",
    "    returns_square = np.square(returns)\n",
    "    returns_adjust = np.log(np.abs(np.subtract(returns, returns.mean())))\n",
    "\n",
    "    plot_acf(returns, 'returns')\n",
    "    plot_acf(returns_abs, 'absolute returns')\n",
    "    plot_acf(returns_square, 'square returns')\n",
    "    plot_acf(returns_adjust, 'logarithms of absolute, mean-adjusted returns')"
   ]
  },
  {
   "cell_type": "code",
   "execution_count": null,
   "metadata": {
    "scrolled": false
   },
   "outputs": [],
   "source": [
    "returns = crypto_dic['bitcoin']\n",
    "plot_acf_forall(returns)"
   ]
  },
  {
   "cell_type": "code",
   "execution_count": null,
   "metadata": {
    "scrolled": false
   },
   "outputs": [],
   "source": [
    "returns = rate_dic['EUR_USD']\n",
    "plot_acf_forall(returns)"
   ]
  }
 ],
 "metadata": {
  "kernelspec": {
   "display_name": "Python 3",
   "language": "python",
   "name": "python3"
  },
  "language_info": {
   "codemirror_mode": {
    "name": "ipython",
    "version": 3
   },
   "file_extension": ".py",
   "mimetype": "text/x-python",
   "name": "python",
   "nbconvert_exporter": "python",
   "pygments_lexer": "ipython3",
   "version": "3.6.5"
  }
 },
 "nbformat": 4,
 "nbformat_minor": 2
}
