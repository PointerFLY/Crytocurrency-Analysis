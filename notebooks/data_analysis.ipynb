{
 "cells": [
  {
   "cell_type": "markdown",
   "metadata": {},
   "source": [
    "# Stylized Facts of Cryptocurrency"
   ]
  },
  {
   "cell_type": "code",
   "execution_count": null,
   "metadata": {},
   "outputs": [],
   "source": [
    "import numpy as np\n",
    "import pandas as pd\n",
    "import matplotlib.pyplot as plt\n",
    "import matplotlib.mlab as mlab\n",
    "import glob\n",
    "import re\n",
    "from statsmodels.tsa.stattools import acf, pacf\n",
    "\n",
    "plt.rcParams['figure.figsize'] = (15.0, 5.0)"
   ]
  },
  {
   "cell_type": "code",
   "execution_count": null,
   "metadata": {},
   "outputs": [],
   "source": [
    "files = [f for f in glob.glob('../data/*price.csv')]\n",
    "files.sort()\n",
    "coin_names = list(map(lambda f: re.match(re.compile('.*/(.*)_price.csv'), f).group(1), files))\n",
    "returns_map = dict();\n",
    "data_sizes = pd.DataFrame(index=['size'], columns=coin_names)\n",
    "for idx, file in enumerate(files):\n",
    "    df = pd.read_csv(file)\n",
    "    df['Date'] = pd.to_datetime(df['Date'])\n",
    "    df = df.sort_values(by='Date')\n",
    "    df.set_index('Date', inplace=True)\n",
    "    prices = df['Close']\n",
    "    returns = pd.Series(np.log(prices / prices.shift()))\n",
    "    returns.dropna(inplace=True)\n",
    "    returns_map[coin_names[idx]] = returns;\n",
    "    data_sizes[coin_names[idx]][0] = returns.size\n",
    "data_sizes"
   ]
  },
  {
   "cell_type": "markdown",
   "metadata": {},
   "source": [
    "## Basic Statistics\n",
    "* Q1: What does A* mean, another version of central limit theorem?\n",
    "* Q2: z-score here might be meaningless since it is used to assess the null hypothesis that the expected return is zero"
   ]
  },
  {
   "cell_type": "code",
   "execution_count": null,
   "metadata": {},
   "outputs": [],
   "source": [
    "columns = ['10^4 mean', '10^2 std', 'max', 'min', 'skew', 'skew_abs', 'kurtosis', 'G%', 'A*%', 'z']\n",
    "df = pd.DataFrame(index=coin_names, dtype='float', columns=columns)\n",
    "N = 365;\n",
    "for key, returns in returns_map.items():\n",
    "    G = math.exp(N * returns.mean()) - 1\n",
    "    Astar = (1 + G) * math.exp(N * 0.5 * math.pow(returns.std(), 2.0)) - 1\n",
    "    z = returns.mean() * math.sqrt(returns.size) / returns.std() \n",
    "    \n",
    "    df.loc[key] = [returns.mean() * 10000, returns.std() * 100, \n",
    "                   returns.max(), returns.min(), \n",
    "                   returns.skew(), abs(returns.skew()), returns.kurtosis(),\n",
    "                   G * 100, Astar * 100, \n",
    "                   z]\n",
    "df.round(2)"
   ]
  },
  {
   "cell_type": "code",
   "execution_count": null,
   "metadata": {},
   "outputs": [],
   "source": [
    "ax = table.plot.scatter(x='kurtosis', y='skew_abs')\n",
    "for i, text in enumerate(table.index):\n",
    "    ax.annotate(text, (table['kurtosis'].iat[i], table['skew_abs'].iat[i]))\n",
    "plt.show()\n",
    "\n",
    "ax = table.plot.scatter(x='kurtosis', y='std')\n",
    "for i, text in enumerate(table.index):\n",
    "    ax.annotate(text, (table['kurtosis'].iat[i], table['std'].iat[i]))\n",
    "plt.show()\n",
    "\n",
    "ax = table.plot.scatter(x='kurtosis', y='mean')\n",
    "for i, text in enumerate(table.index):\n",
    "    ax.annotate(text, (table['kurtosis'].iat[i], table['mean'].iat[i]))\n",
    "plt.show()\n",
    "\n",
    "ax = table.plot.scatter(x='mean', y='std')\n",
    "for i, text in enumerate(table.index):\n",
    "    ax.annotate(text, (table['mean'].iat[i], table['std'].iat[i]))\n",
    "plt.show()\n",
    "\n",
    "ax = table.plot.scatter(x='min', y='max')\n",
    "for i, text in enumerate(table.index):\n",
    "    ax.annotate(text, (table['min'].iat[i], table['max'].iat[i]))\n",
    "plt.show()"
   ]
  },
  {
   "cell_type": "markdown",
   "metadata": {},
   "source": [
    "## Shape of Returns Distribution\n",
    "Q: What's the threshold of skewness and kurtosis as a normal distribution."
   ]
  },
  {
   "cell_type": "code",
   "execution_count": null,
   "metadata": {},
   "outputs": [],
   "source": [
    "columns = ['std', 'skew', 'skew std', 'z-skew', 'kurtosis', 'kurtosis std', 'z-kurtosis']\n",
    "df = pd.DataFrame(index=coin_names, dtype='float', columns=columns)\n",
    "for key, returns in returns_map.items():\n",
    "    skew_std = math.sqrt(6.0 / returns.size)\n",
    "    kurto_std = math.sqrt(24.0 / returns.size)\n",
    "    df.loc[key] = [returns.std(), \n",
    "                   returns.skew(), skew_std, abs(returns.skew()) / skew_std,\n",
    "                   returns.kurtosis(), kurto_std, returns.kurtosis() / kurto_std]\n",
    "df.round(2)"
   ]
  },
  {
   "cell_type": "markdown",
   "metadata": {},
   "source": [
    "### Example shape graph"
   ]
  },
  {
   "cell_type": "code",
   "execution_count": null,
   "metadata": {},
   "outputs": [],
   "source": [
    "returns = returns_map['bitconnect']\n",
    "\n",
    "returns.plot('kde')\n",
    "x = np.linspace(returns.min(), returns.max(), returns.size)\n",
    "plt.plot(x, mlab.normpdf(x, returns.mean(), returns.std()))\n",
    "returns.plot('hist', bins=40, secondary_y=True, alpha=0.5)\n",
    "plt.show()\n",
    "\n",
    "returns.plot()\n",
    "plt.show()"
   ]
  },
  {
   "cell_type": "markdown",
   "metadata": {},
   "source": [
    "## Calendar Effects"
   ]
  },
  {
   "cell_type": "markdown",
   "metadata": {},
   "source": [
    "### Average percentage day-of-week returns"
   ]
  },
  {
   "cell_type": "code",
   "execution_count": null,
   "metadata": {},
   "outputs": [],
   "source": [
    "columns = ['Monday', 'Tuesday', 'Wednesday', 'Thursday', 'Friday', 'Saturday', 'Sunday']\n",
    "df = pd.DataFrame(index=coin_names, dtype='float', columns=columns)\n",
    "\n",
    "for key, returns in returns_map.items():\n",
    "    df.loc[key] = 10000 * returns.groupby(returns.index.dayofweek).mean().values\n",
    "    \n",
    "print('Average percentage daily 10^4 returns: ')\n",
    "df.round(2)"
   ]
  },
  {
   "cell_type": "markdown",
   "metadata": {},
   "source": [
    "### Average percentage day-of-week std"
   ]
  },
  {
   "cell_type": "code",
   "execution_count": null,
   "metadata": {},
   "outputs": [],
   "source": [
    "columns = ['Monday', 'Tuesday', 'Wednesday', 'Thursday', 'Friday', 'Saturday', 'Sunday']\n",
    "df = pd.DataFrame(index=coin_names, dtype='float', columns=columns)\n",
    "\n",
    "for key, returns in returns_map.items():\n",
    "    df.loc[key] = 100 * returns.groupby(returns.index.dayofweek).std().values\n",
    "    \n",
    "print('Average percentage daily 10^2 std: ')\n",
    "df.round(2)"
   ]
  },
  {
   "cell_type": "code",
   "execution_count": null,
   "metadata": {},
   "outputs": [],
   "source": [
    "columns = ['Monday', 'Tuesday', 'Wednesday', 'Thursday', 'Friday', 'Saturday', 'Sunday']\n",
    "df = pd.DataFrame(index=index, dtype='float', columns=columns)\n",
    "\n",
    "returns = returns_map['bitcoin']\n",
    "groups = returns.groupby(returns.index.dayofweek)\n",
    "\n",
    "calG = lambda x: math.exp(N * x.mean()) - 1\n",
    "calAstar = lambda x: (1 + calG(x)) * math.exp(N * 0.5 * math.pow(x.std(), 2.0)) - 1\n",
    "calz = lambda x: x.mean() * math.sqrt(x.size) / x.std() \n",
    "\n",
    "df.loc['10^4 mean']= 10000 * groups.mean().values\n",
    "df.loc['10^2 std'] = 100 * groups.std().values\n",
    "df.loc['max'] = groups.max().values\n",
    "df.loc['min'] = groups.min().values\n",
    "df.loc['skew'] = groups.skew().values\n",
    "df.loc['kurtosis'] = groups.apply(lambda x: x.kurtosis()).values\n",
    "df.loc['G%'] = groups.apply(calG).values; \n",
    "df.loc['A*%'] = groups.apply(calAstar).values; \n",
    "df.loc['z'] = groups.apply(calz).values; \n",
    "\n",
    "df.round(2)"
   ]
  },
  {
   "cell_type": "markdown",
   "metadata": {},
   "source": [
    "## Autocorrelation"
   ]
  },
  {
   "cell_type": "code",
   "execution_count": null,
   "metadata": {},
   "outputs": [],
   "source": [
    "def draw_acf(returns, title):\n",
    "    lag_acf = acf(returns, nlags=20)\n",
    "    lag_pacf = pacf(returns, nlags=20, method='ols')\n",
    "\n",
    "    ######################### ACF ##########################################\n",
    "\n",
    "    plt.subplot(121)\n",
    "    plt.bar(x=range(len(lag_acf)), height=lag_acf, alpha=0.3, color='green')\n",
    "    plt.plot(lag_acf)\n",
    "    plt.axhline(y=0, linestyle='--',color='blue')\n",
    "    plt.axhline(y=-1.96/np.sqrt(len(returns)), linestyle='--', color='pink')\n",
    "    plt.axhline(y=1.96/np.sqrt(len(returns)), linestyle='--', color='blue')\n",
    "    plt.title(title + ' -- autocorrelation')\n",
    "\n",
    "    ######################### PACF ##########################################\n",
    "\n",
    "    plt.subplot(122)\n",
    "    plt.bar(x=range(len(lag_pacf)), height=lag_pacf, alpha=0.3, color='green')\n",
    "    plt.plot(lag_pacf)\n",
    "    plt.axhline(y=0, linestyle='--',color='blue')\n",
    "    plt.axhline(y=-1.96/np.sqrt(len(returns)), linestyle='--', color='pink')\n",
    "    plt.axhline(y=1.96/np.sqrt(len(returns)), linestyle='--', color='blue')\n",
    "    plt.title(title + ' -- partial autocorrelation')\n",
    "    plt.show()\n",
    "    \n",
    "returns = returns_map['bitcoin']\n",
    "returns_abs = np.abs(returns)\n",
    "returns_square = np.square(returns)\n",
    "returns_adjust = np.log(np.abs(np.subtract(returns, returns.mean())))\n",
    "\n",
    "draw_acf(returns, 'returns')\n",
    "draw_acf(returns_abs, 'absolute returns')\n",
    "draw_acf(returns_square, 'square returns')\n",
    "draw_acf(returns_adjust, 'logarithms of absolute, mean-adjusted returns')"
   ]
  }
 ],
 "metadata": {
  "kernelspec": {
   "display_name": "Python 3",
   "language": "python",
   "name": "python3"
  },
  "language_info": {
   "codemirror_mode": {
    "name": "ipython",
    "version": 3
   },
   "file_extension": ".py",
   "mimetype": "text/x-python",
   "name": "python",
   "nbconvert_exporter": "python",
   "pygments_lexer": "ipython3",
   "version": "3.6.5"
  }
 },
 "nbformat": 4,
 "nbformat_minor": 2
}
