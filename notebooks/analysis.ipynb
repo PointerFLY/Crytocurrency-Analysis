{
 "cells": [
  {
   "cell_type": "markdown",
   "metadata": {},
   "source": [
    "# Investigation of stylized facts of cryptocurrency"
   ]
  },
  {
   "cell_type": "code",
   "execution_count": null,
   "metadata": {
    "scrolled": false
   },
   "outputs": [],
   "source": [
    "import numpy as np\n",
    "import pandas as pd\n",
    "import matplotlib.pyplot as plt\n",
    "import glob\n",
    "import re"
   ]
  },
  {
   "cell_type": "code",
   "execution_count": null,
   "metadata": {
    "scrolled": false
   },
   "outputs": [],
   "source": [
    "files = [f for f in glob.glob('../data/*price.csv')]\n",
    "files.sort()\n",
    "table_indices = list(map(lambda f: re.match(re.compile('.*/(.*)_price.csv'), f).group(1), files))\n",
    "returnsList = list();\n",
    "for idx, file in enumerate(files):\n",
    "    data_frame = pd.read_csv(file)\n",
    "    data_frame = data_frame[::-1].reset_index(drop=True)\n",
    "    prices = data_frame['Close']\n",
    "    returns = np.log(prices / prices.shift())\n",
    "    returnsList.append(returns)"
   ]
  },
  {
   "cell_type": "markdown",
   "metadata": {},
   "source": [
    "# Summary statistics of returns"
   ]
  },
  {
   "cell_type": "code",
   "execution_count": null,
   "metadata": {
    "scrolled": false
   },
   "outputs": [],
   "source": [
    "table_frame = pd.DataFrame(index=table_indices, columns=[\"mean\", \"std\", \"skew\", \"kurtosis\"])\n",
    "for idx, returns in enumerate(returnsList):\n",
    "    table_frame.iloc[idx] = [returns.mean(), returns.std(), returns.skew(), returns.kurtosis()]\n",
    "table_frame"
   ]
  },
  {
   "cell_type": "markdown",
   "metadata": {},
   "source": [
    "# Autocorrelations for returns"
   ]
  },
  {
   "cell_type": "code",
   "execution_count": null,
   "metadata": {
    "scrolled": false
   },
   "outputs": [],
   "source": [
    "table_frame = pd.DataFrame(index=table_indices, columns=[\"Lag 1\", \"2\", \"3\", \"4\", '5'])\n",
    "for idx, returns in enumerate(returnsList):\n",
    "    table_frame.iloc[idx] = [returns.autocorr(i) for i in range(1, 6)]\n",
    "table_frame"
   ]
  },
  {
   "cell_type": "markdown",
   "metadata": {},
   "source": [
    "# Autocorrelations for absolute returns"
   ]
  },
  {
   "cell_type": "code",
   "execution_count": null,
   "metadata": {
    "scrolled": false
   },
   "outputs": [],
   "source": [
    "table_frame = pd.DataFrame(index=table_indices, columns=[\"Lag 1\", \"2\", \"3\", \"4\", '5'])\n",
    "for idx, returns in enumerate(returnsList):\n",
    "    returns = np.abs(returns)\n",
    "    table_frame.iloc[idx] = [returns.autocorr(i) for i in range(1, 6)]\n",
    "table_frame"
   ]
  },
  {
   "cell_type": "markdown",
   "metadata": {},
   "source": [
    "# Autocorrelations for squared returns"
   ]
  },
  {
   "cell_type": "code",
   "execution_count": null,
   "metadata": {
    "scrolled": false
   },
   "outputs": [],
   "source": [
    "table_frame = pd.DataFrame(index=table_indices, columns=[\"Lag 1\", \"2\", \"3\", \"4\", '5'])\n",
    "for idx, returns in enumerate(returnsList):\n",
    "    returns = np.square(returns)\n",
    "    table_frame.iloc[idx] = [returns.autocorr(i) for i in range(1, 6)]\n",
    "table_frame"
   ]
  },
  {
   "cell_type": "markdown",
   "metadata": {},
   "source": [
    "# Autocorrelations for logarithms of absolute, mean-adjusted returns"
   ]
  },
  {
   "cell_type": "code",
   "execution_count": null,
   "metadata": {
    "scrolled": false
   },
   "outputs": [],
   "source": [
    "table_frame = pd.DataFrame(index=table_indices, columns=[\"Lag 1\", \"2\", \"3\", \"4\", '5'])\n",
    "for idx, returns in enumerate(returnsList):\n",
    "    returns = np.log(np.abs(np.subtract(returns, returns.mean())))\n",
    "    table_frame.iloc[idx] = [returns.autocorr(i) for i in range(1, 6)]\n",
    "table_frame"
   ]
  }
 ],
 "metadata": {
  "kernelspec": {
   "display_name": "Python 3",
   "language": "python",
   "name": "python3"
  },
  "language_info": {
   "codemirror_mode": {
    "name": "ipython",
    "version": 3
   },
   "file_extension": ".py",
   "mimetype": "text/x-python",
   "name": "python",
   "nbconvert_exporter": "python",
   "pygments_lexer": "ipython3",
   "version": "3.6.4"
  }
 },
 "nbformat": 4,
 "nbformat_minor": 2
}
