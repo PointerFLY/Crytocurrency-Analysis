{
 "cells": [
  {
   "cell_type": "code",
   "execution_count": null,
   "metadata": {},
   "outputs": [],
   "source": [
    "import numpy as np\n",
    "import pandas as pd\n",
    "import matplotlib.pyplot as plt\n",
    "import matplotlib.mlab as mlab\n",
    "from statsmodels.tsa.stattools import adfuller\n",
    "from statsmodels.tsa.stattools import acf, pacf\n",
    "from statsmodels.tsa.arima_model import ARIMA, ARMA\n",
    "\n",
    "plt.rcParams['figure.figsize'] = (15.0, 5.0)"
   ]
  },
  {
   "cell_type": "code",
   "execution_count": null,
   "metadata": {},
   "outputs": [],
   "source": [
    "df = pd.read_csv('../data/bitcoin_price.csv')\n",
    "\n",
    "df['Date'] = pd.to_datetime(df['Date'])\n",
    "df = df.sort_values(by='Date')\n",
    "df = df.set_index('Date')\n",
    "prices = df['Close']\n",
    "\n",
    "plt.plot(prices)\n",
    "plt.show()"
   ]
  },
  {
   "cell_type": "code",
   "execution_count": null,
   "metadata": {},
   "outputs": [],
   "source": [
    "prices_log = pd.Series(np.log(prices)).asfreq('1d')\n",
    "returns = (prices_log - prices_log.shift()).dropna()\n",
    "returns_abs = pd.Series(np.abs(returns))\n",
    "returns.plot()\n",
    "plt.show()\n",
    "result = adfuller(returns_abs, autolag='AIC')\n",
    "output = pd.Series(result[0:4], index=['Test Statistic','p-value','Lags Used','Number of Observations Used'])\n",
    "output"
   ]
  },
  {
   "cell_type": "code",
   "execution_count": null,
   "metadata": {},
   "outputs": [],
   "source": [
    "lag_acf = acf(returns_abs, nlags=20)\n",
    "lag_pacf = pacf(returns_abs, nlags=20, method='ols')\n",
    "\n",
    "######################### ACF ##########################################\n",
    "\n",
    "plt.subplot(121)\n",
    "plt.plot(lag_acf)\n",
    "plt.axhline(y=0, linestyle='--',color='blue')\n",
    "plt.axhline(y=-1.96/np.sqrt(len(returns_abs)), linestyle='--', color='pink')\n",
    "plt.axhline(y=1.96/np.sqrt(len(returns_abs)), linestyle='--', color='blue')\n",
    "plt.title('Autocorrelation Function')\n",
    "\n",
    "######################### PACF ##########################################\n",
    "\n",
    "plt.subplot(122)\n",
    "plt.plot(lag_pacf)\n",
    "plt.axhline(y=0, linestyle='--',color='blue')\n",
    "plt.axhline(y=-1.96/np.sqrt(len(returns_abs)), linestyle='--', color='pink')\n",
    "plt.axhline(y=1.96/np.sqrt(len(returns_abs)), linestyle='--', color='blue')\n",
    "plt.title('partial autocorrelation plot')\n",
    "plt.show()"
   ]
  },
  {
   "cell_type": "code",
   "execution_count": null,
   "metadata": {},
   "outputs": [],
   "source": [
    "## AR\n",
    "plt.subplot(131)\n",
    "model = ARMA(returns_abs, order=(1, 0))\n",
    "result_AR = model.fit(disp=-1)\n",
    "plt.plot(returns_abs)\n",
    "plt.plot(result_AR.fittedvalues, color='red')\n",
    "plt.title('RSS: %.4f'% sum((result_AR.fittedvalues - returns)**2))\n",
    "\n",
    "## MA\n",
    "plt.subplot(132)\n",
    "model = ARMA(returns_abs, order=(0, 1))\n",
    "result_MA = model.fit(disp=-1)\n",
    "plt.plot(returns_abs)\n",
    "plt.plot(result_MA.fittedvalues, color='red')\n",
    "plt.title('RSS: %.4f'% sum((result_MA.fittedvalues-returns)**2))\n",
    "\n",
    "## ARMA\n",
    "plt.subplot(133)\n",
    "model = ARMA(returns_abs, order=(1, 1))\n",
    "result_ARMA = model.fit(disp=-1)\n",
    "plt.plot(returns_abs)\n",
    "plt.plot(result_ARMA.fittedvalues, color='red')\n",
    "plt.title('RSS: %.4f'% sum((result_ARMA.fittedvalues-returns)**2))\n",
    "plt.show()"
   ]
  },
  {
   "cell_type": "code",
   "execution_count": null,
   "metadata": {},
   "outputs": [],
   "source": [
    "plt.plot(returns_abs)\n",
    "plt.plot(result_ARMA.fittedvalues, color='red')\n",
    "plt.show()"
   ]
  }
 ],
 "metadata": {
  "kernelspec": {
   "display_name": "Python 3",
   "language": "python",
   "name": "python3"
  },
  "language_info": {
   "codemirror_mode": {
    "name": "ipython",
    "version": 3
   },
   "file_extension": ".py",
   "mimetype": "text/x-python",
   "name": "python",
   "nbconvert_exporter": "python",
   "pygments_lexer": "ipython3",
   "version": "3.6.5"
  }
 },
 "nbformat": 4,
 "nbformat_minor": 2
}
