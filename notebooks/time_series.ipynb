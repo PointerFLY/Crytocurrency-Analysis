{
 "cells": [
  {
   "cell_type": "markdown",
   "metadata": {},
   "source": [
    "# Time Series Analysis"
   ]
  },
  {
   "cell_type": "code",
   "execution_count": null,
   "metadata": {
    "scrolled": false
   },
   "outputs": [],
   "source": [
    "import numpy as np\n",
    "import pandas as pd\n",
    "import matplotlib.pyplot as plt\n",
    "import matplotlib.mlab as mlab\n",
    "from statsmodels.tsa.stattools import adfuller\n",
    "from statsmodels.tsa.stattools import acf, pacf\n",
    "from statsmodels.tsa.arima_model import ARIMA, ARMA, AR\n",
    "from arch import arch_model\n",
    "\n",
    "plt.rcParams['figure.figsize'] = (15.0, 5.0)"
   ]
  },
  {
   "cell_type": "markdown",
   "metadata": {},
   "source": [
    "## Cryptocurrency Time Series"
   ]
  },
  {
   "cell_type": "code",
   "execution_count": null,
   "metadata": {
    "scrolled": false
   },
   "outputs": [],
   "source": [
    "df = pd.read_csv('../data/cryptos/bitcoin_price.csv')\n",
    "\n",
    "df['Date'] = pd.to_datetime(df['Date'])\n",
    "df = df.sort_values(by='Date')\n",
    "df = df.set_index('Date')\n",
    "prices = df['Close']\n",
    "\n",
    "prices_log = pd.Series(np.log(prices)).asfreq('1d')\n",
    "crypto_returns = (prices_log - prices_log.shift()).dropna()\n",
    "crypto_returns_abs = pd.Series(np.abs(crypto_returns))"
   ]
  },
  {
   "cell_type": "code",
   "execution_count": null,
   "metadata": {},
   "outputs": [],
   "source": [
    "plt.title('Prices')\n",
    "prices.plot()\n",
    "plt.show()\n",
    "\n",
    "plt.title('crypto_returns')\n",
    "crypto_returns.plot()\n",
    "plt.show()\n",
    "\n",
    "plt.title('Absolute crypto_returns')\n",
    "crypto_returns_abs.plot()\n",
    "plt.show()"
   ]
  },
  {
   "cell_type": "code",
   "execution_count": null,
   "metadata": {
    "scrolled": false
   },
   "outputs": [],
   "source": [
    "result = adfuller(crypto_returns, autolag='AIC')\n",
    "output = pd.Series(result[0:4], index=['Test Statistic','p-value','Lags Used','Number of Observations Used'])\n",
    "print(\"Augmented Dickey–Fuller test for crypto_returns:\\n\")\n",
    "print(output)\n",
    "print()\n",
    "\n",
    "result = adfuller(crypto_returns_abs, autolag='AIC')\n",
    "output = pd.Series(result[0:4], index=['Test Statistic','p-value','Lags Used','Number of Observations Used'])\n",
    "print('Augmented Dickey–Fuller test for Absolute crypto_returns:\\n')\n",
    "print(output)"
   ]
  },
  {
   "cell_type": "markdown",
   "metadata": {},
   "source": [
    "## Currency Exchange Rates Time Series"
   ]
  },
  {
   "cell_type": "code",
   "execution_count": null,
   "metadata": {
    "scrolled": false
   },
   "outputs": [],
   "source": [
    "df = pd.read_csv('../data/currencies/EUR_USD Historical Data.csv')\n",
    "df['Date'] = pd.to_datetime(df['Date'])\n",
    "df = df.sort_values(by='Date')\n",
    "df = df.set_index('Date')\n",
    "\n",
    "rates = df['Price']\n",
    "rates = rates[crypto_returns.index]\n",
    "rates.interpolate(inplace=True)  # Handle weekend missing data\n",
    "\n",
    "rates_log = pd.Series(np.log(rates)).asfreq('1d')\n",
    "rate_returns = (rates_log - rates_log.shift()).dropna()\n",
    "rate_returns_abs = pd.Series(np.abs(rate_returns))"
   ]
  },
  {
   "cell_type": "code",
   "execution_count": null,
   "metadata": {},
   "outputs": [],
   "source": [
    "plt.title('Exchange Rates')\n",
    "rates.plot()\n",
    "plt.show()\n",
    "\n",
    "plt.title('crypto_returns')\n",
    "rates_crypto_returns.plot()\n",
    "plt.show()\n",
    "\n",
    "plt.title('Absolute crypto_returns')\n",
    "rates_crypto_returns_abs.plot()\n",
    "plt.show()"
   ]
  },
  {
   "cell_type": "code",
   "execution_count": null,
   "metadata": {},
   "outputs": [],
   "source": [
    "result = adfuller(rates_crypto_returns, autolag='AIC')\n",
    "output = pd.Series(result[0:4], index=['Test Statistic','p-value','Lags Used','Number of Observations Used'])\n",
    "print(\"Augmented Dickey–Fuller test for rates_crypto_returns:\\n\")\n",
    "print(output)\n",
    "print()\n",
    "\n",
    "result = adfuller(rates_crypto_returns_abs, autolag='AIC')\n",
    "output = pd.Series(result[0:4], index=['Test Statistic','p-value','Lags Used','Number of Observations Used'])\n",
    "print('Augmented Dickey–Fuller test for Absolute rates_crypto_returns:\\n')\n",
    "print(output)"
   ]
  },
  {
   "cell_type": "code",
   "execution_count": null,
   "metadata": {
    "scrolled": false
   },
   "outputs": [],
   "source": [
    "def plot_acf(returns):\n",
    "    lag_acf = acf(returns, nlags=20)\n",
    "    lag_pacf = pacf(returns, nlags=20, method='ols')\n",
    "\n",
    "    ######################### ACF ##########################################\n",
    "\n",
    "    plt.subplot(121)\n",
    "    plt.bar(x=range(len(lag_acf)), height=lag_acf, alpha=0.3, color='green')\n",
    "    plt.plot(lag_acf)\n",
    "    plt.axhline(y=0, linestyle='--',color='blue')\n",
    "    plt.axhline(y=-1.96/np.sqrt(len(returns)), linestyle='--', color='pink')\n",
    "    plt.axhline(y=1.96/np.sqrt(len(returns)), linestyle='--', color='blue')\n",
    "    plt.title('Autocorrelation Function')\n",
    "\n",
    "    ######################### PACF ##########################################\n",
    "\n",
    "    plt.subplot(122)\n",
    "    plt.bar(x=range(len(lag_pacf)), height=lag_pacf, alpha=0.3, color='green')\n",
    "    plt.plot(lag_pacf)\n",
    "    plt.axhline(y=0, linestyle='--',color='blue')\n",
    "    plt.axhline(y=-1.96/np.sqrt(len(returns)), linestyle='--', color='pink')\n",
    "    plt.axhline(y=1.96/np.sqrt(len(returns)), linestyle='--', color='blue')\n",
    "    plt.title('Partial autocorrelation plot')\n",
    "    plt.show()"
   ]
  },
  {
   "cell_type": "markdown",
   "metadata": {},
   "source": [
    "## Cryptocurrency Analysis"
   ]
  },
  {
   "cell_type": "code",
   "execution_count": null,
   "metadata": {},
   "outputs": [],
   "source": [
    "plot_acf(crypto_returns_abs)"
   ]
  },
  {
   "cell_type": "code",
   "execution_count": null,
   "metadata": {},
   "outputs": [],
   "source": [
    "model = ARMA(crypto_returns_abs, order=(5, 2)).fit()\n",
    "plt.plot(crypto_returns_abs)\n",
    "plt.plot(model.fittedvalues, color='red')\n",
    "plt.title('ARMA Mean Absolute Scaled Error: %.4f'% (sum(abs(model.resid) / crypto_returns_abs.mean()) / crypto_returns_abs.size))\n",
    "plt.show()\n",
    "\n",
    "print(model.summary())"
   ]
  },
  {
   "cell_type": "code",
   "execution_count": null,
   "metadata": {},
   "outputs": [],
   "source": [
    "exog = rates[crypto_returns.index].dropna(inplace=True)\n",
    "model = ARMA(crypto_returns_abs, order=(5, 2), exog=exog).fit()\n",
    "plt.plot(crypto_returns_abs)\n",
    "plt.plot(model.fittedvalues, color='red')\n",
    "plt.title('VARMA Mean Absolute Scaled Error: %.4f'% (sum(abs(model.resid) / crypto_returns_abs.mean()) / crypto_returns_abs.size))\n",
    "plt.show()\n",
    "\n",
    "print(model.summary())"
   ]
  },
  {
   "cell_type": "code",
   "execution_count": null,
   "metadata": {},
   "outputs": [],
   "source": [
    "model = arch_model(crypto_returns_abs, p=1, o=0, q=1).fit(update_freq=-1)\n",
    "plt.plot(crypto_returns_abs)\n",
    "plt.plot(model.conditional_volatility, color='red')\n",
    "plt.title('ARCH Mean Absolute Scaled Error: %.4f'% (sum(abs(model.resid) / crypto_returns_abs.mean()) / crypto_returns_abs.size))\n",
    "plt.show()\n",
    "\n",
    "print(model.summary())"
   ]
  },
  {
   "cell_type": "markdown",
   "metadata": {},
   "source": [
    "## Currency Analysis"
   ]
  },
  {
   "cell_type": "code",
   "execution_count": null,
   "metadata": {},
   "outputs": [],
   "source": [
    "plot_acf(rate_returns_abs)"
   ]
  },
  {
   "cell_type": "code",
   "execution_count": null,
   "metadata": {},
   "outputs": [],
   "source": [
    "model = ARMA(rate_returns_abs, order=(7, 2)).fit()\n",
    "plt.plot(rate_returns_abs)\n",
    "plt.plot(model.fittedvalues, color='red')\n",
    "plt.title('ARMA Mean Absolute Scaled Error: %.4f'% (sum(abs(model.resid) / rate_returns_abs.mean()) / rate_returns_abs.size))\n",
    "plt.show()\n",
    "\n",
    "print(model.summary())"
   ]
  },
  {
   "cell_type": "code",
   "execution_count": null,
   "metadata": {},
   "outputs": [],
   "source": [
    "model = arch_model(rate_returns_abs, p=4, o=0, q=3).fit(update_freq=-1)\n",
    "plt.plot(rate_returns_abs)\n",
    "plt.plot(model.conditional_volatility, color='red')\n",
    "plt.title('GARCH Mean Absolute Scaled Error: %.4f'% (sum(abs(model.resid) / rate_returns_abs.mean()) / rate_returns_abs.size))\n",
    "plt.show()\n",
    "\n",
    "print(model.summary())"
   ]
  }
 ],
 "metadata": {
  "kernelspec": {
   "display_name": "Python 3",
   "language": "python",
   "name": "python3"
  },
  "language_info": {
   "codemirror_mode": {
    "name": "ipython",
    "version": 3
   },
   "file_extension": ".py",
   "mimetype": "text/x-python",
   "name": "python",
   "nbconvert_exporter": "python",
   "pygments_lexer": "ipython3",
   "version": "3.6.5"
  }
 },
 "nbformat": 4,
 "nbformat_minor": 2
}
