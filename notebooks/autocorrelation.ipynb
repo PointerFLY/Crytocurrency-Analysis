{
 "cells": [
  {
   "cell_type": "code",
   "execution_count": null,
   "metadata": {},
   "outputs": [],
   "source": [
    "import numpy as np\n",
    "import pandas as pd\n",
    "import matplotlib.pyplot as plt"
   ]
  },
  {
   "cell_type": "code",
   "execution_count": null,
   "metadata": {},
   "outputs": [],
   "source": [
    "data_frame = pd.read_csv(\"../data/bitcoin_price.csv\")\n",
    "data_frame = data_frame[::-1].reset_index(drop=True)\n",
    "data_frame.describe()"
   ]
  },
  {
   "cell_type": "code",
   "execution_count": null,
   "metadata": {
    "scrolled": true
   },
   "outputs": [],
   "source": [
    "prices = data_frame['Close']\n",
    "returns = np.log(prices / prices.shift())\n",
    "returns[1:5]"
   ]
  },
  {
   "cell_type": "markdown",
   "metadata": {},
   "source": [
    "# Autocorrelation Facts\n",
    "* There is almost no correlation between returns for different days.\n",
    "* There is positive dependence between absolute returns on near by days, and likewise for squared returns and logarithms of absolute, mean-adjusted returns."
   ]
  },
  {
   "cell_type": "code",
   "execution_count": null,
   "metadata": {},
   "outputs": [],
   "source": [
    "print(\"Lags   autocorrelation\")\n",
    "for i in range(1, 10):\n",
    "    print(' {}    {}'.format(i, returns.autocorr(i)))"
   ]
  },
  {
   "cell_type": "code",
   "execution_count": null,
   "metadata": {},
   "outputs": [],
   "source": [
    "print(\"Lags   absolute return autocorrelation\")\n",
    "abs_returns = np.abs(returns)\n",
    "for i in range(1, 10):\n",
    "    print(' {}    {}'.format(i, abs_returns.autocorr(i)))"
   ]
  },
  {
   "cell_type": "code",
   "execution_count": null,
   "metadata": {},
   "outputs": [],
   "source": [
    "print(\"Lags   squared return autocorrelation\")\n",
    "square_returns = np.square(returns)\n",
    "for i in range(1, 10):\n",
    "    print(' {}    {}'.format(i, square_returns.autocorr(i)))"
   ]
  },
  {
   "cell_type": "code",
   "execution_count": null,
   "metadata": {},
   "outputs": [],
   "source": [
    "print(\"Lags   logarithms of absolute, mean-adjusted returns autocorrelations\")\n",
    "square_returns = np.log(np.abs(np.subtract(returns, returns.mean())))\n",
    "for i in range(1, 10):\n",
    "    print(' {}    {}'.format(i, square_returns.autocorr(i)))"
   ]
  }
 ],
 "metadata": {
  "kernelspec": {
   "display_name": "Python 3",
   "language": "python",
   "name": "python3"
  },
  "language_info": {
   "codemirror_mode": {
    "name": "ipython",
    "version": 3
   },
   "file_extension": ".py",
   "mimetype": "text/x-python",
   "name": "python",
   "nbconvert_exporter": "python",
   "pygments_lexer": "ipython3",
   "version": "3.6.4"
  }
 },
 "nbformat": 4,
 "nbformat_minor": 2
}
